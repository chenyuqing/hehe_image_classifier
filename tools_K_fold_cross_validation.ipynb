{
 "cells": [
  {
   "cell_type": "code",
   "execution_count": 1,
   "metadata": {},
   "outputs": [
    {
     "name": "stderr",
     "output_type": "stream",
     "text": [
      "Using TensorFlow backend.\n"
     ]
    }
   ],
   "source": [
    "# -*- coding: utf-8 -*-\n",
    "from keras.preprocessing import image\n",
    "from keras.utils import to_categorical\n",
    "from keras.applications.vgg16 import preprocess_input\n",
    "\n",
    "import os\n",
    "import numpy as np\n",
    "import pandas as pd\n",
    "from tqdm import tqdm\n",
    "%matplotlib inline\n",
    "\n",
    "CATEGORIES = ['alaska', 'bichons', 'french_bulldog', 'chihuahua', 'golden', 'husky', 'labrador', 'papillon', 'samoyed', 'shepherd',\n",
    "              'teddy', 'basset_hound_dog', 'bull_terrier_dog', 'chinese_sharpei', 'chow',  'cocker_spaniel', 'corgi_dog', 'dachshund_dog',\n",
    "              'dalmatian_dog', 'doberman', 'eskimo_dog', 'great_greyhound_dog', 'italian_greyhound', 'japanese_spitz_dog', 'lhasa', 'maltese',\n",
    "              'miniature_pinscher', 'miniature_schnauzer', 'newfoundland', 'pekingese_dog', 'pomeranian', 'poodle', 'rough_collie_dog',\n",
    "              'saint_bernard', 'shetland_sheepdog', 'shiba_inu_dog', 'shih_tzu_dog', 'tibetan_mastiff', 'wolf_dog']\n",
    "\n",
    "SAMPLE_PER_CATEGORY = 350\n",
    "INPUT_SIZE = 224\n",
    "SEED = 1991"
   ]
  },
  {
   "cell_type": "code",
   "execution_count": 2,
   "metadata": {},
   "outputs": [],
   "source": [
    "# read the image\n",
    "def read_img(data_dir, filepath, size):\n",
    "    img = image.load_img(os.path.join(data_dir, filepath), target_size=size)\n",
    "    img = image.img_to_array(img)\n",
    "    return img"
   ]
  },
  {
   "cell_type": "code",
   "execution_count": 3,
   "metadata": {},
   "outputs": [],
   "source": [
    "# read the training data\n",
    "def get_train_data(data_dir, train_path):\n",
    "    train_dir = os.path.join(data_dir, train_path)\n",
    "\n",
    "    train = []\n",
    "    for category_id, category in enumerate(CATEGORIES):\n",
    "        for file in os.listdir(os.path.join(train_dir, category)):\n",
    "            train.append([train_path+'/{}/{}'.format(category, file), category_id, category])\n",
    "    train = pd.DataFrame(train, columns=['file', 'category_id', 'category'])\n",
    "    # sampling\n",
    "    train = pd.concat([train[train['category'] == c][:SAMPLE_PER_CATEGORY] for c in CATEGORIES])\n",
    "    train = train.sample(frac=1)\n",
    "    train.index = np.arange(len(train))\n",
    "\n",
    "#     print(train[['category_id', 'category']])\n",
    "    \n",
    "    X = train['file']\n",
    "    Y = train['category_id']\n",
    "    \n",
    "    # read in the train image array\n",
    "    x_train = np.zeros((len(X), INPUT_SIZE, INPUT_SIZE, 3), dtype='float32')\n",
    "    for i, file in tqdm(enumerate(X)):\n",
    "        img = read_img(data_dir, file, (INPUT_SIZE, INPUT_SIZE))\n",
    "        x = preprocess_input(np.expand_dims(img.copy(), axis=0))\n",
    "        x_train[i] = x\n",
    "\n",
    "    num_classes = len(CATEGORIES)\n",
    "\n",
    "    return x_train, Y, num_classes"
   ]
  },
  {
   "cell_type": "code",
   "execution_count": 4,
   "metadata": {},
   "outputs": [
    {
     "name": "stderr",
     "output_type": "stream",
     "text": [
      "583it [00:01, 403.67it/s]/usr/lib/python3/dist-packages/PIL/Image.py:870: UserWarning: Palette images with Transparency   expressed in bytes should be converted to RGBA images\n",
      "  'to RGBA images')\n",
      "3923it [00:09, 398.86it/s]\n"
     ]
    }
   ],
   "source": [
    "data_dir = './input'\n",
    "train_path = 'train1'\n",
    "\n",
    "X, Y, num_classes = get_train_data(data_dir, train_path)"
   ]
  },
  {
   "cell_type": "code",
   "execution_count": 8,
   "metadata": {
    "scrolled": false
   },
   "outputs": [
    {
     "name": "stdout",
     "output_type": "stream",
     "text": [
      "VGG16 # layers 20\n",
      "_________________________________________________________________\n",
      "Layer (type)                 Output Shape              Param #   \n",
      "=================================================================\n",
      "input_3 (InputLayer)         (None, None, None, 3)     0         \n",
      "_________________________________________________________________\n",
      "block1_conv1 (Conv2D)        (None, None, None, 64)    1792      \n",
      "_________________________________________________________________\n",
      "block1_conv2 (Conv2D)        (None, None, None, 64)    36928     \n",
      "_________________________________________________________________\n",
      "block1_pool (MaxPooling2D)   (None, None, None, 64)    0         \n",
      "_________________________________________________________________\n",
      "block2_conv1 (Conv2D)        (None, None, None, 128)   73856     \n",
      "_________________________________________________________________\n",
      "block2_conv2 (Conv2D)        (None, None, None, 128)   147584    \n",
      "_________________________________________________________________\n",
      "block2_pool (MaxPooling2D)   (None, None, None, 128)   0         \n",
      "_________________________________________________________________\n",
      "block3_conv1 (Conv2D)        (None, None, None, 256)   295168    \n",
      "_________________________________________________________________\n",
      "block3_conv2 (Conv2D)        (None, None, None, 256)   590080    \n",
      "_________________________________________________________________\n",
      "block3_conv3 (Conv2D)        (None, None, None, 256)   590080    \n",
      "_________________________________________________________________\n",
      "block3_pool (MaxPooling2D)   (None, None, None, 256)   0         \n",
      "_________________________________________________________________\n",
      "block4_conv1 (Conv2D)        (None, None, None, 512)   1180160   \n",
      "_________________________________________________________________\n",
      "block4_conv2 (Conv2D)        (None, None, None, 512)   2359808   \n",
      "_________________________________________________________________\n",
      "block4_conv3 (Conv2D)        (None, None, None, 512)   2359808   \n",
      "_________________________________________________________________\n",
      "block4_pool (MaxPooling2D)   (None, None, None, 512)   0         \n",
      "_________________________________________________________________\n",
      "block5_conv1 (Conv2D)        (None, None, None, 512)   2359808   \n",
      "_________________________________________________________________\n",
      "block5_conv2 (Conv2D)        (None, None, None, 512)   2359808   \n",
      "_________________________________________________________________\n",
      "block5_conv3 (Conv2D)        (None, None, None, 512)   2359808   \n",
      "_________________________________________________________________\n",
      "block5_pool (MaxPooling2D)   (None, None, None, 512)   0         \n",
      "_________________________________________________________________\n",
      "global_average_pooling2d_3 ( (None, 512)               0         \n",
      "_________________________________________________________________\n",
      "dense_7 (Dense)              (None, 2048)              1050624   \n",
      "_________________________________________________________________\n",
      "dense_8 (Dense)              (None, 1024)              2098176   \n",
      "_________________________________________________________________\n",
      "dense_9 (Dense)              (None, 39)                39975     \n",
      "=================================================================\n",
      "Total params: 17,903,463\n",
      "Trainable params: 4,924,263\n",
      "Non-trainable params: 12,979,200\n",
      "_________________________________________________________________\n",
      "<class 'pandas.core.series.Series'>\n",
      "Int64Index([  17,   19,   20,   23,   24,   25,   26,   29,   30,   32,\n",
      "            ...\n",
      "            3897, 3898, 3899, 3901, 3902, 3907, 3909, 3910, 3913, 3921],\n",
      "           dtype='int64', length=2592)\n",
      "<class 'pandas.core.series.Series'>\n",
      "Int64Index([   0,    1,    2,    3,    4,    5,    6,    7,    8,    9,\n",
      "            ...\n",
      "            3911, 3912, 3914, 3915, 3916, 3917, 3918, 3919, 3920, 3922],\n",
      "           dtype='int64', length=2626)\n",
      "<class 'pandas.core.series.Series'>\n",
      "Int64Index([   0,    1,    2,    3,    4,    5,    6,    7,    8,    9,\n",
      "            ...\n",
      "            3913, 3914, 3915, 3916, 3917, 3918, 3919, 3920, 3921, 3922],\n",
      "           dtype='int64', length=2628)\n"
     ]
    }
   ],
   "source": [
    "from sklearn.model_selection import StratifiedKFold\n",
    "# define 10-fold cross validation test harness\n",
    "kfold = StratifiedKFold(n_splits=3, shuffle=True, random_state=SEED)\n",
    "\n",
    "from pretrained_models import vgg16_model\n",
    "model = vgg16_model(num_classes)\n",
    "\n",
    "# print(Y)\n",
    "cvscores = []\n",
    "for train, test in kfold.split(X, Y):\n",
    "#     print(X[train])\n",
    "    print(type(Y[train]))\n",
    "    print(Y[train].index)\n",
    "#     Y[train] = to_categorical(Y[train], num_classes=len(CATEGORIES))\n",
    "#     model.fit(X[train], Y[train], epochs=10, batch_size=32, verbose=1, shuffle=True)\n",
    "#     # evaluate the model\n",
    "#     Y[test] = to_categorical(Y[test], num_classes=len(CATEGORIES))\n",
    "#     scores = model.evaluate(X[test], Y[test], verbose=0)\n",
    "#     print(\"%s: %.2f%%\" % (model.metrics_names[1], scores[1]*100))\n",
    "#     cvscores.append(scores[1] * 100)\n",
    "# print(\"%.2f%% (+/- %.2f%%)\" % (numpy.mean(cvscores), numpy.std(cvscores)))"
   ]
  },
  {
   "cell_type": "code",
   "execution_count": 6,
   "metadata": {},
   "outputs": [],
   "source": [
    "# to categorical\n",
    "y = to_categorical(Y, num_classes=len(CATEGORIES))"
   ]
  }
 ],
 "metadata": {
  "kernelspec": {
   "display_name": "Python 3",
   "language": "python",
   "name": "python3"
  },
  "language_info": {
   "codemirror_mode": {
    "name": "ipython",
    "version": 3
   },
   "file_extension": ".py",
   "mimetype": "text/x-python",
   "name": "python",
   "nbconvert_exporter": "python",
   "pygments_lexer": "ipython3",
   "version": "3.5.2"
  }
 },
 "nbformat": 4,
 "nbformat_minor": 2
}
