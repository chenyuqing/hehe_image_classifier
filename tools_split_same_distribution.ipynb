{
 "cells": [
  {
   "cell_type": "code",
   "execution_count": 1,
   "metadata": {},
   "outputs": [
    {
     "name": "stderr",
     "output_type": "stream",
     "text": [
      "Using TensorFlow backend.\n"
     ]
    }
   ],
   "source": [
    "# -*- coding: utf-8 -*-\n",
    "from keras.preprocessing import image\n",
    "from keras.utils import to_categorical\n",
    "from keras.applications.vgg16 import preprocess_input\n",
    "\n",
    "import os\n",
    "import numpy as np\n",
    "import pandas as pd\n",
    "from tqdm import tqdm\n",
    "%matplotlib inline\n",
    "\n",
    "CATEGORIES = ['alaska', 'bichons', 'french_bulldog', 'chihuahua', 'golden', 'husky', 'labrador', 'papillon', 'samoyed', 'shepherd',\n",
    "              'teddy', 'basset_hound_dog', 'bull_terrier_dog', 'chinese_sharpei', 'chow',  'cocker_spaniel', 'corgi_dog', 'dachshund_dog',\n",
    "              'dalmatian_dog', 'doberman', 'eskimo_dog', 'great_greyhound_dog', 'italian_greyhound', 'japanese_spitz_dog', 'lhasa', 'maltese',\n",
    "              'miniature_pinscher', 'miniature_schnauzer', 'newfoundland', 'pekingese_dog', 'pomeranian', 'poodle', 'rough_collie_dog',\n",
    "              'saint_bernard', 'shetland_sheepdog', 'shiba_inu_dog', 'shih_tzu_dog', 'tibetan_mastiff', 'wolf_dog']\n",
    "\n",
    "SAMPLE_PER_CATEGORY = 350\n",
    "INPUT_SIZE = 224"
   ]
  },
  {
   "cell_type": "code",
   "execution_count": 2,
   "metadata": {},
   "outputs": [],
   "source": [
    "# read the image\n",
    "def read_img(data_dir, filepath, size):\n",
    "    img = image.load_img(os.path.join(data_dir, filepath), target_size=size)\n",
    "    img = image.img_to_array(img)\n",
    "    return img"
   ]
  },
  {
   "cell_type": "code",
   "execution_count": null,
   "metadata": {},
   "outputs": [],
   "source": [
    "from collections import Counter\n",
    "# read the training data\n",
    "def get_train_val_data(data_dir, train_path):\n",
    "    SEED = 1991\n",
    "    train_dir = os.path.join(data_dir, train_path)\n",
    "\n",
    "    train = []\n",
    "    for category_id, category in enumerate(CATEGORIES):\n",
    "        for file in os.listdir(os.path.join(train_dir, category)):\n",
    "            train.append([train_path+'/{}/{}'.format(category, file), category_id, category])\n",
    "    train = pd.DataFrame(train, columns=['file', 'category_id', 'category'])\n",
    "    # sampling\n",
    "    train = pd.concat([train[train['category'] == c][:SAMPLE_PER_CATEGORY] for c in CATEGORIES])\n",
    "    train = train.sample(frac=1)\n",
    "    train.index = np.arange(len(train))\n",
    "\n",
    "    print(train)\n",
    "\n",
    "    # read in the image array\n",
    "    x_train = np.zeros((len(train), INPUT_SIZE, INPUT_SIZE, 3), dtype='float32')\n",
    "    for i, file in tqdm(enumerate(train['file'])):\n",
    "        img = read_img(data_dir, file, (INPUT_SIZE, INPUT_SIZE))\n",
    "        x = preprocess_input(np.expand_dims(img.copy(), axis=0))\n",
    "        x_train[i] = x\n",
    "\n",
    "    # split train and validation\n",
    "    np.random.seed(seed=SEED)\n",
    "    rnd = np.random.random(len(train))\n",
    "    train_idx = rnd < 0.7\n",
    "    valid_idx = rnd >= 0.7\n",
    "\n",
    "    Xtr = x_train[train_idx]\n",
    "    Xv = x_train[valid_idx]\n",
    "    ytr = train.loc[train_idx, 'category_id'].values\n",
    "    yv = train.loc[valid_idx, 'category_id'].values\n",
    "\n",
    "    train_dist = Counter(ytr)\n",
    "    val_dist = Counter(yv)\n",
    "\n",
    "    for k in train_dist:\n",
    "        print('Train # {} has {} samples'.format(k, train_dist[k]))\n",
    "        print('Val # {} has {} samples'.format(k, val_dist[k]))\n",
    "        print('------------split line---------------------------')\n",
    "\n",
    "    # to categorical\n",
    "    ytr = to_categorical(ytr, num_classes=len(CATEGORIES))\n",
    "    yv = to_categorical(yv, num_classes=len(CATEGORIES))\n",
    "\n",
    "    num_classes = len(CATEGORIES)\n",
    "\n",
    "    return Xtr, ytr, Xv, yv, num_classes"
   ]
  },
  {
   "cell_type": "code",
   "execution_count": 4,
   "metadata": {},
   "outputs": [
    {
     "name": "stderr",
     "output_type": "stream",
     "text": [
      "\r0it [00:00, ?it/s]"
     ]
    },
    {
     "name": "stderr",
     "output_type": "stream",
     "text": [
      "\r48it [00:00, 476.74it/s]"
     ]
    },
    {
     "name": "stdout",
     "output_type": "stream",
     "text": [
      "                                                    file  category_id  \\\n0      train_aug/shiba_inu_dog/shiba_inu_dog_0_7457.jpeg           35   \n1      train_aug/chinese_sharpei/chinese_sharpei_0_19...           13   \n2      train_aug/shetland_sheepdog/shetland_sheepdog_...           34   \n3                      train_aug/teddy/teddy_0_3700.jpeg           10   \n4      train_aug/great_greyhound_dog/great_greyhound_...           21   \n5              train_aug/chihuahua/chihuahua_0_2790.jpeg            3   \n6      train_aug/rough_collie_dog/rough_collie_dog_0_...           32   \n7      train_aug/shetland_sheepdog/shetland_sheepdog_...           34   \n8      train_aug/chinese_sharpei/chinese_sharpei_0_92...           13   \n9            train_aug/pomeranian/pomeranian_0_6688.jpeg           30   \n10                     train_aug/husky/husky_0_2702.jpeg            5   \n11     train_aug/tibetan_mastiff/tibetan_mastiff_0_51...           37   \n12                 train_aug/samoyed/samoyed_0_2973.jpeg            8   \n13     train_aug/italian_greyhound/italian_greyhound_...           22   \n14               train_aug/doberman/doberman_0_1578.jpeg           19   \n15               train_aug/doberman/doberman_0_3666.jpeg           19   \n16                   train_aug/poodle/poodle_0_1221.jpeg           31   \n17     train_aug/great_greyhound_dog/great_greyhound_...           21   \n18                     train_aug/teddy/teddy_0_9885.jpeg           10   \n19     train_aug/dachshund_dog/dachshund_dog_0_3250.jpeg           17   \n20     train_aug/chinese_sharpei/chinese_sharpei_0_39...           13   \n21                 train_aug/bichons/bichons_0_4209.jpeg            1   \n22     train_aug/shiba_inu_dog/shiba_inu_dog_0_8381.jpeg           35   \n23     train_aug/miniature_pinscher/miniature_pinsche...           26   \n24     train_aug/dachshund_dog/dachshund_dog_0_9611.jpeg           17   \n25     train_aug/french_bulldog/french_bulldog_0_7164...            2   \n26                 train_aug/bichons/bichons_0_8120.jpeg            1   \n27     train_aug/miniature_schnauzer/miniature_schnau...           27   \n28     train_aug/miniature_pinscher/miniature_pinsche...           26   \n29                   train_aug/poodle/poodle_0_9999.jpeg           31   \n...                                                  ...          ...   \n13620  train_aug/saint_bernard/saint_bernard_0_5760.jpeg           33   \n13621  train_aug/basset_hound_dog/basset_hound_dog_0_...           11   \n13622  train_aug/rough_collie_dog/rough_collie_dog_0_...           32   \n13623                    train_aug/chow/chow_0_9695.jpeg           14   \n13624                  train_aug/husky/husky_0_4001.jpeg            5   \n13625                train_aug/golden/golden_0_1894.jpeg            4   \n13626                train_aug/alaska/alaska_0_8027.jpeg            0   \n13627            train_aug/labrador/labrador_0_7378.jpeg            6   \n13628  train_aug/italian_greyhound/italian_greyhound_...           22   \n13629                    train_aug/chow/chow_0_9178.jpeg           14   \n13630  train_aug/cocker_spaniel/cocker_spaniel_0_7710...           15   \n13631            train_aug/wolf_dog/wolf_dog_0_8781.jpeg           38   \n13632  train_aug/dachshund_dog/dachshund_dog_0_6937.jpeg           17   \n13633  train_aug/italian_greyhound/italian_greyhound_...           22   \n13634  train_aug/shiba_inu_dog/shiba_inu_dog_0_6412.jpeg           35   \n13635  train_aug/basset_hound_dog/basset_hound_dog_0_...           11   \n13636                  train_aug/lhasa/lhasa_0_7138.jpeg           24   \n13637              train_aug/bichons/bichons_0_1244.jpeg            1   \n13638  train_aug/japanese_spitz_dog/japanese_spitz_do...           23   \n13639  train_aug/pekingese_dog/pekingese_dog_0_5961.jpeg           29   \n13640  train_aug/french_bulldog/french_bulldog_0_4148...            2   \n13641  train_aug/great_greyhound_dog/great_greyhound_...           21   \n13642                train_aug/poodle/poodle_0_2676.jpeg           31   \n13643  train_aug/bull_terrier_dog/bull_terrier_dog_0_...           12   \n13644  train_aug/japanese_spitz_dog/japanese_spitz_do...           23   \n13645             train_aug/papillon/papillon_0_769.jpeg            7   \n13646        train_aug/eskimo_dog/eskimo_dog_0_2424.jpeg           20   \n13647  train_aug/bull_terrier_dog/bull_terrier_dog_0_...           12   \n13648                  train_aug/lhasa/lhasa_0_3558.jpeg           24   \n13649                   train_aug/lhasa/lhasa_0_348.jpeg           24   \n\n                  category  \n0            shiba_inu_dog  \n1          chinese_sharpei  \n2        shetland_sheepdog  \n3                    teddy  \n4      great_greyhound_dog  \n5                chihuahua  \n6         rough_collie_dog  \n7        shetland_sheepdog  \n8          chinese_sharpei  \n9               pomeranian  \n10                   husky  \n11         tibetan_mastiff  \n12                 samoyed  \n13       italian_greyhound  \n14                doberman  \n15                doberman  \n16                  poodle  \n17     great_greyhound_dog  \n18                   teddy  \n19           dachshund_dog  \n20         chinese_sharpei  \n21                 bichons  \n22           shiba_inu_dog  \n23      miniature_pinscher  \n24           dachshund_dog  \n25          french_bulldog  \n26                 bichons  \n27     miniature_schnauzer  \n28      miniature_pinscher  \n29                  poodle  \n...                    ...  \n13620        saint_bernard  \n13621     basset_hound_dog  \n13622     rough_collie_dog  \n13623                 chow  \n13624                husky  \n13625               golden  \n13626               alaska  \n13627             labrador  \n13628    italian_greyhound  \n13629                 chow  \n13630       cocker_spaniel  \n13631             wolf_dog  \n13632        dachshund_dog  \n13633    italian_greyhound  \n13634        shiba_inu_dog  \n13635     basset_hound_dog  \n13636                lhasa  \n13637              bichons  \n13638   japanese_spitz_dog  \n13639        pekingese_dog  \n13640       french_bulldog  \n13641  great_greyhound_dog  \n13642               poodle  \n13643     bull_terrier_dog  \n13644   japanese_spitz_dog  \n13645             papillon  \n13646           eskimo_dog  \n13647     bull_terrier_dog  \n13648                lhasa  \n13649                lhasa  \n\n[13650 rows x 3 columns]\n"
     ]
    },
    {
     "name": "stderr",
     "output_type": "stream",
     "text": [
      "\r99it [00:00, 490.14it/s]"
     ]
    },
    {
     "name": "stderr",
     "output_type": "stream",
     "text": [
      "\r137it [00:00, 452.80it/s]"
     ]
    },
    {
     "name": "stderr",
     "output_type": "stream",
     "text": [
      "\r174it [00:00, 430.82it/s]"
     ]
    },
    {
     "name": "stderr",
     "output_type": "stream",
     "text": [
      "\r227it [00:00, 443.31it/s]"
     ]
    },
    {
     "name": "stderr",
     "output_type": "stream",
     "text": [
      "\r274it [00:00, 447.06it/s]"
     ]
    },
    {
     "name": "stderr",
     "output_type": "stream",
     "text": [
      "\r314it [00:00, 437.21it/s]"
     ]
    },
    {
     "name": "stderr",
     "output_type": "stream",
     "text": [
      "\r362it [00:00, 440.18it/s]"
     ]
    },
    {
     "name": "stderr",
     "output_type": "stream",
     "text": [
      "\r410it [00:00, 444.45it/s]"
     ]
    },
    {
     "name": "stderr",
     "output_type": "stream",
     "text": [
      "\r454it [00:01, 443.89it/s]"
     ]
    },
    {
     "name": "stderr",
     "output_type": "stream",
     "text": [
      "\r498it [00:01, 442.47it/s]"
     ]
    },
    {
     "name": "stderr",
     "output_type": "stream",
     "text": [
      "\r543it [00:01, 442.07it/s]"
     ]
    },
    {
     "name": "stderr",
     "output_type": "stream",
     "text": [
      "\r596it [00:01, 448.35it/s]"
     ]
    },
    {
     "name": "stderr",
     "output_type": "stream",
     "text": [
      "\r647it [00:01, 452.46it/s]"
     ]
    },
    {
     "name": "stderr",
     "output_type": "stream",
     "text": [
      "\r695it [00:01, 450.64it/s]"
     ]
    },
    {
     "name": "stderr",
     "output_type": "stream",
     "text": [
      "\r752it [00:01, 457.52it/s]"
     ]
    },
    {
     "name": "stderr",
     "output_type": "stream",
     "text": [
      "\r804it [00:01, 460.64it/s]"
     ]
    },
    {
     "name": "stderr",
     "output_type": "stream",
     "text": [
      "\r854it [00:01, 459.25it/s]"
     ]
    },
    {
     "name": "stderr",
     "output_type": "stream",
     "text": [
      "\r902it [00:01, 454.05it/s]"
     ]
    },
    {
     "name": "stderr",
     "output_type": "stream",
     "text": [
      "\r947it [00:02, 452.79it/s]"
     ]
    },
    {
     "name": "stderr",
     "output_type": "stream",
     "text": [
      "\r992it [00:02, 451.64it/s]"
     ]
    },
    {
     "name": "stderr",
     "output_type": "stream",
     "text": [
      "\r1040it [00:02, 452.54it/s]"
     ]
    },
    {
     "name": "stderr",
     "output_type": "stream",
     "text": [
      "\r1088it [00:02, 453.57it/s]"
     ]
    },
    {
     "name": "stderr",
     "output_type": "stream",
     "text": [
      "\r1146it [00:02, 458.53it/s]"
     ]
    },
    {
     "name": "stderr",
     "output_type": "stream",
     "text": [
      "\r1196it [00:02, 459.21it/s]"
     ]
    },
    {
     "name": "stderr",
     "output_type": "stream",
     "text": [
      "\r1245it [00:02, 460.15it/s]"
     ]
    },
    {
     "name": "stderr",
     "output_type": "stream",
     "text": [
      "\r1294it [00:02, 459.49it/s]"
     ]
    },
    {
     "name": "stderr",
     "output_type": "stream",
     "text": [
      "\r1343it [00:02, 451.82it/s]"
     ]
    },
    {
     "name": "stderr",
     "output_type": "stream",
     "text": [
      "\r1386it [00:03, 448.54it/s]"
     ]
    },
    {
     "name": "stderr",
     "output_type": "stream",
     "text": [
      "\r1427it [00:03, 446.21it/s]"
     ]
    },
    {
     "name": "stderr",
     "output_type": "stream",
     "text": [
      "\r1480it [00:03, 448.71it/s]"
     ]
    },
    {
     "name": "stderr",
     "output_type": "stream",
     "text": [
      "\r1524it [00:03, 448.08it/s]"
     ]
    },
    {
     "name": "stderr",
     "output_type": "stream",
     "text": [
      "\r1568it [00:03, 446.59it/s]"
     ]
    },
    {
     "name": "stderr",
     "output_type": "stream",
     "text": [
      "\r1611it [00:03, 444.67it/s]"
     ]
    },
    {
     "name": "stderr",
     "output_type": "stream",
     "text": [
      "\r1662it [00:03, 446.27it/s]"
     ]
    },
    {
     "name": "stderr",
     "output_type": "stream",
     "text": [
      "\r1713it [00:03, 447.59it/s]"
     ]
    },
    {
     "name": "stderr",
     "output_type": "stream",
     "text": [
      "\r1759it [00:03, 445.93it/s]"
     ]
    },
    {
     "name": "stderr",
     "output_type": "stream",
     "text": [
      "\r1803it [00:04, 445.67it/s]"
     ]
    },
    {
     "name": "stderr",
     "output_type": "stream",
     "text": [
      "\r1855it [00:04, 447.14it/s]"
     ]
    },
    {
     "name": "stderr",
     "output_type": "stream",
     "text": [
      "\r1901it [00:04, 439.77it/s]"
     ]
    },
    {
     "name": "stderr",
     "output_type": "stream",
     "text": [
      "\r1950it [00:04, 440.78it/s]"
     ]
    },
    {
     "name": "stderr",
     "output_type": "stream",
     "text": [
      "\r2003it [00:04, 442.62it/s]"
     ]
    },
    {
     "name": "stderr",
     "output_type": "stream",
     "text": [
      "\r2054it [00:04, 443.92it/s]"
     ]
    },
    {
     "name": "stderr",
     "output_type": "stream",
     "text": [
      "\r2108it [00:04, 445.87it/s]"
     ]
    },
    {
     "name": "stderr",
     "output_type": "stream",
     "text": [
      "\r2157it [00:04, 445.61it/s]"
     ]
    },
    {
     "name": "stderr",
     "output_type": "stream",
     "text": [
      "\r2205it [00:04, 444.56it/s]"
     ]
    },
    {
     "name": "stderr",
     "output_type": "stream",
     "text": [
      "\r2261it [00:05, 446.75it/s]"
     ]
    },
    {
     "name": "stderr",
     "output_type": "stream",
     "text": [
      "\r2313it [00:05, 448.16it/s]"
     ]
    },
    {
     "name": "stderr",
     "output_type": "stream",
     "text": [
      "\r2363it [00:05, 446.47it/s]"
     ]
    },
    {
     "name": "stderr",
     "output_type": "stream",
     "text": [
      "\r2415it [00:05, 447.73it/s]"
     ]
    },
    {
     "name": "stderr",
     "output_type": "stream",
     "text": [
      "\r2463it [00:05, 446.31it/s]"
     ]
    },
    {
     "name": "stderr",
     "output_type": "stream",
     "text": [
      "\r2512it [00:05, 446.85it/s]"
     ]
    },
    {
     "name": "stderr",
     "output_type": "stream",
     "text": [
      "\r2558it [00:05, 445.60it/s]"
     ]
    },
    {
     "name": "stderr",
     "output_type": "stream",
     "text": [
      "\r2602it [00:05, 439.40it/s]"
     ]
    },
    {
     "name": "stderr",
     "output_type": "stream",
     "text": [
      "\r2652it [00:06, 440.39it/s]"
     ]
    },
    {
     "name": "stderr",
     "output_type": "stream",
     "text": [
      "\r2694it [00:06, 440.04it/s]"
     ]
    },
    {
     "name": "stderr",
     "output_type": "stream",
     "text": [
      "\r2743it [00:06, 440.68it/s]"
     ]
    },
    {
     "name": "stderr",
     "output_type": "stream",
     "text": [
      "\r2787it [00:06, 440.43it/s]"
     ]
    },
    {
     "name": "stderr",
     "output_type": "stream",
     "text": [
      "\r2831it [00:06, 440.21it/s]"
     ]
    },
    {
     "name": "stderr",
     "output_type": "stream",
     "text": [
      "\r2875it [00:06, 439.27it/s]"
     ]
    },
    {
     "name": "stderr",
     "output_type": "stream",
     "text": [
      "\r2921it [00:06, 439.45it/s]"
     ]
    },
    {
     "name": "stderr",
     "output_type": "stream",
     "text": [
      "\r2964it [00:06, 439.06it/s]"
     ]
    },
    {
     "name": "stderr",
     "output_type": "stream",
     "text": [
      "\r3007it [00:06, 438.93it/s]"
     ]
    },
    {
     "name": "stderr",
     "output_type": "stream",
     "text": [
      "\r3052it [00:06, 439.03it/s]"
     ]
    },
    {
     "name": "stderr",
     "output_type": "stream",
     "text": [
      "\r3098it [00:07, 439.32it/s]"
     ]
    },
    {
     "name": "stderr",
     "output_type": "stream",
     "text": [
      "\r3142it [00:07, 436.01it/s]"
     ]
    },
    {
     "name": "stderr",
     "output_type": "stream",
     "text": [
      "\r3190it [00:07, 436.47it/s]"
     ]
    },
    {
     "name": "stderr",
     "output_type": "stream",
     "text": [
      "\r3235it [00:07, 436.60it/s]"
     ]
    },
    {
     "name": "stderr",
     "output_type": "stream",
     "text": [
      "\r3288it [00:07, 437.60it/s]"
     ]
    },
    {
     "name": "stderr",
     "output_type": "stream",
     "text": [
      "\r3345it [00:07, 439.26it/s]"
     ]
    },
    {
     "name": "stderr",
     "output_type": "stream",
     "text": [
      "\r3404it [00:07, 441.11it/s]"
     ]
    },
    {
     "name": "stderr",
     "output_type": "stream",
     "text": [
      "\r3456it [00:07, 441.00it/s]"
     ]
    },
    {
     "name": "stderr",
     "output_type": "stream",
     "text": [
      "\r3505it [00:07, 440.49it/s]"
     ]
    },
    {
     "name": "stderr",
     "output_type": "stream",
     "text": [
      "\r3552it [00:08, 440.23it/s]"
     ]
    },
    {
     "name": "stderr",
     "output_type": "stream",
     "text": [
      "\r3598it [00:08, 439.63it/s]"
     ]
    },
    {
     "name": "stderr",
     "output_type": "stream",
     "text": [
      "\r3642it [00:08, 439.09it/s]"
     ]
    },
    {
     "name": "stderr",
     "output_type": "stream",
     "text": [
      "\r3699it [00:08, 440.63it/s]"
     ]
    },
    {
     "name": "stderr",
     "output_type": "stream",
     "text": [
      "\r3748it [00:08, 441.19it/s]"
     ]
    },
    {
     "name": "stderr",
     "output_type": "stream",
     "text": [
      "\r3805it [00:08, 442.67it/s]"
     ]
    },
    {
     "name": "stderr",
     "output_type": "stream",
     "text": [
      "\r3856it [00:08, 440.64it/s]"
     ]
    },
    {
     "name": "stderr",
     "output_type": "stream",
     "text": [
      "\r3903it [00:08, 440.71it/s]"
     ]
    },
    {
     "name": "stderr",
     "output_type": "stream",
     "text": [
      "\r3956it [00:08, 441.11it/s]"
     ]
    },
    {
     "name": "stderr",
     "output_type": "stream",
     "text": [
      "\r4006it [00:09, 441.50it/s]"
     ]
    },
    {
     "name": "stderr",
     "output_type": "stream",
     "text": [
      "\r4053it [00:09, 441.70it/s]"
     ]
    },
    {
     "name": "stderr",
     "output_type": "stream",
     "text": [
      "\r4115it [00:09, 443.51it/s]"
     ]
    },
    {
     "name": "stderr",
     "output_type": "stream",
     "text": [
      "\r4166it [00:09, 443.47it/s]"
     ]
    },
    {
     "name": "stderr",
     "output_type": "stream",
     "text": [
      "\r4217it [00:09, 444.13it/s]"
     ]
    },
    {
     "name": "stderr",
     "output_type": "stream",
     "text": [
      "\r4267it [00:09, 443.91it/s]"
     ]
    },
    {
     "name": "stderr",
     "output_type": "stream",
     "text": [
      "\r4315it [00:09, 443.10it/s]"
     ]
    },
    {
     "name": "stderr",
     "output_type": "stream",
     "text": [
      "\r4364it [00:09, 443.55it/s]"
     ]
    },
    {
     "name": "stderr",
     "output_type": "stream",
     "text": [
      "\r4410it [00:10, 440.12it/s]"
     ]
    },
    {
     "name": "stderr",
     "output_type": "stream",
     "text": [
      "\r4456it [00:10, 440.24it/s]"
     ]
    },
    {
     "name": "stderr",
     "output_type": "stream",
     "text": [
      "\r4500it [00:10, 440.22it/s]"
     ]
    },
    {
     "name": "stderr",
     "output_type": "stream",
     "text": [
      "\r4553it [00:10, 441.03it/s]"
     ]
    },
    {
     "name": "stderr",
     "output_type": "stream",
     "text": [
      "\r4603it [00:10, 441.51it/s]"
     ]
    },
    {
     "name": "stderr",
     "output_type": "stream",
     "text": [
      "\r4650it [00:10, 441.56it/s]"
     ]
    },
    {
     "name": "stderr",
     "output_type": "stream",
     "text": [
      "\r4696it [00:10, 441.35it/s]"
     ]
    },
    {
     "name": "stderr",
     "output_type": "stream",
     "text": [
      "\r4741it [00:10, 439.54it/s]"
     ]
    },
    {
     "name": "stderr",
     "output_type": "stream",
     "text": [
      "\r4787it [00:10, 439.70it/s]"
     ]
    },
    {
     "name": "stderr",
     "output_type": "stream",
     "text": [
      "\r4848it [00:10, 441.21it/s]"
     ]
    },
    {
     "name": "stderr",
     "output_type": "stream",
     "text": [
      "\r4896it [00:11, 441.11it/s]"
     ]
    },
    {
     "name": "stderr",
     "output_type": "stream",
     "text": [
      "\r4943it [00:11, 440.87it/s]"
     ]
    },
    {
     "name": "stderr",
     "output_type": "stream",
     "text": [
      "\r5001it [00:11, 442.08it/s]"
     ]
    },
    {
     "name": "stderr",
     "output_type": "stream",
     "text": [
      "\r5061it [00:11, 443.44it/s]"
     ]
    },
    {
     "name": "stderr",
     "output_type": "stream",
     "text": [
      "\r5114it [00:11, 442.47it/s]"
     ]
    },
    {
     "name": "stderr",
     "output_type": "stream",
     "text": [
      "\r5162it [00:11, 442.69it/s]"
     ]
    },
    {
     "name": "stderr",
     "output_type": "stream",
     "text": [
      "\r5210it [00:11, 441.82it/s]"
     ]
    },
    {
     "name": "stderr",
     "output_type": "stream",
     "text": [
      "\r5266it [00:11, 442.73it/s]"
     ]
    },
    {
     "name": "stderr",
     "output_type": "stream",
     "text": [
      "\r5324it [00:12, 443.13it/s]"
     ]
    },
    {
     "name": "stderr",
     "output_type": "stream",
     "text": [
      "\r5372it [00:12, 443.00it/s]"
     ]
    },
    {
     "name": "stderr",
     "output_type": "stream",
     "text": [
      "\r5419it [00:12, 443.16it/s]"
     ]
    },
    {
     "name": "stderr",
     "output_type": "stream",
     "text": [
      "\r5467it [00:12, 443.43it/s]"
     ]
    },
    {
     "name": "stderr",
     "output_type": "stream",
     "text": [
      "\r5515it [00:12, 443.71it/s]"
     ]
    },
    {
     "name": "stderr",
     "output_type": "stream",
     "text": [
      "\r5562it [00:12, 443.87it/s]"
     ]
    },
    {
     "name": "stderr",
     "output_type": "stream",
     "text": [
      "\r5619it [00:12, 444.72it/s]"
     ]
    },
    {
     "name": "stderr",
     "output_type": "stream",
     "text": [
      "\r5670it [00:12, 445.19it/s]"
     ]
    },
    {
     "name": "stderr",
     "output_type": "stream",
     "text": [
      "\r5722it [00:12, 445.73it/s]"
     ]
    },
    {
     "name": "stderr",
     "output_type": "stream",
     "text": [
      "\r5773it [00:12, 446.10it/s]"
     ]
    },
    {
     "name": "stderr",
     "output_type": "stream",
     "text": [
      "\r5823it [00:13, 444.94it/s]"
     ]
    },
    {
     "name": "stderr",
     "output_type": "stream",
     "text": [
      "\r5873it [00:13, 445.34it/s]"
     ]
    },
    {
     "name": "stderr",
     "output_type": "stream",
     "text": [
      "\r5920it [00:13, 444.96it/s]"
     ]
    },
    {
     "name": "stderr",
     "output_type": "stream",
     "text": [
      "\r5974it [00:13, 445.67it/s]"
     ]
    },
    {
     "name": "stderr",
     "output_type": "stream",
     "text": [
      "\r6024it [00:13, 445.67it/s]"
     ]
    },
    {
     "name": "stderr",
     "output_type": "stream",
     "text": [
      "\r6071it [00:13, 444.82it/s]"
     ]
    },
    {
     "name": "stderr",
     "output_type": "stream",
     "text": [
      "\r6121it [00:13, 445.22it/s]"
     ]
    },
    {
     "name": "stderr",
     "output_type": "stream",
     "text": [
      "\r6175it [00:13, 445.85it/s]"
     ]
    },
    {
     "name": "stderr",
     "output_type": "stream",
     "text": [
      "\r6223it [00:13, 446.07it/s]"
     ]
    },
    {
     "name": "stderr",
     "output_type": "stream",
     "text": [
      "\r6271it [00:14, 446.20it/s]"
     ]
    },
    {
     "name": "stderr",
     "output_type": "stream",
     "text": [
      "\r6325it [00:14, 446.84it/s]"
     ]
    },
    {
     "name": "stderr",
     "output_type": "stream",
     "text": [
      "\r6375it [00:14, 446.14it/s]"
     ]
    },
    {
     "name": "stderr",
     "output_type": "stream",
     "text": [
      "\r6421it [00:14, 445.89it/s]"
     ]
    },
    {
     "name": "stderr",
     "output_type": "stream",
     "text": [
      "\r6468it [00:14, 446.04it/s]"
     ]
    },
    {
     "name": "stderr",
     "output_type": "stream",
     "text": [
      "\r6521it [00:14, 446.58it/s]"
     ]
    },
    {
     "name": "stderr",
     "output_type": "stream",
     "text": [
      "\r6573it [00:14, 447.04it/s]"
     ]
    },
    {
     "name": "stderr",
     "output_type": "stream",
     "text": [
      "\r6622it [00:14, 446.92it/s]"
     ]
    },
    {
     "name": "stderr",
     "output_type": "stream",
     "text": [
      "\r6669it [00:14, 445.53it/s]"
     ]
    },
    {
     "name": "stderr",
     "output_type": "stream",
     "text": [
      "\r6725it [00:15, 446.28it/s]"
     ]
    },
    {
     "name": "stderr",
     "output_type": "stream",
     "text": [
      "\r6772it [00:15, 445.66it/s]"
     ]
    },
    {
     "name": "stderr",
     "output_type": "stream",
     "text": [
      "\r6816it [00:15, 445.40it/s]"
     ]
    },
    {
     "name": "stderr",
     "output_type": "stream",
     "text": [
      "\r6870it [00:15, 445.98it/s]"
     ]
    },
    {
     "name": "stderr",
     "output_type": "stream",
     "text": [
      "\r6921it [00:15, 446.33it/s]"
     ]
    },
    {
     "name": "stderr",
     "output_type": "stream",
     "text": [
      "\r6975it [00:15, 446.91it/s]"
     ]
    },
    {
     "name": "stderr",
     "output_type": "stream",
     "text": [
      "\r7025it [00:15, 447.15it/s]"
     ]
    },
    {
     "name": "stderr",
     "output_type": "stream",
     "text": [
      "\r7074it [00:15, 446.74it/s]"
     ]
    },
    {
     "name": "stderr",
     "output_type": "stream",
     "text": [
      "\r7121it [00:15, 446.51it/s]"
     ]
    },
    {
     "name": "stderr",
     "output_type": "stream",
     "text": [
      "\r7171it [00:16, 446.81it/s]"
     ]
    },
    {
     "name": "stderr",
     "output_type": "stream",
     "text": [
      "\r7222it [00:16, 447.19it/s]"
     ]
    },
    {
     "name": "stderr",
     "output_type": "stream",
     "text": [
      "\r7270it [00:16, 447.15it/s]"
     ]
    },
    {
     "name": "stderr",
     "output_type": "stream",
     "text": [
      "\r7326it [00:16, 447.83it/s]"
     ]
    },
    {
     "name": "stderr",
     "output_type": "stream",
     "text": [
      "\r7376it [00:16, 446.68it/s]"
     ]
    },
    {
     "name": "stderr",
     "output_type": "stream",
     "text": [
      "\r7425it [00:16, 446.93it/s]"
     ]
    },
    {
     "name": "stderr",
     "output_type": "stream",
     "text": [
      "\r7471it [00:16, 446.97it/s]"
     ]
    },
    {
     "name": "stderr",
     "output_type": "stream",
     "text": [
      "\r7526it [00:16, 447.57it/s]"
     ]
    },
    {
     "name": "stderr",
     "output_type": "stream",
     "text": [
      "\r7575it [00:16, 447.64it/s]"
     ]
    },
    {
     "name": "stderr",
     "output_type": "stream",
     "text": [
      "\r7624it [00:17, 447.84it/s]"
     ]
    },
    {
     "name": "stderr",
     "output_type": "stream",
     "text": [
      "\r7672it [00:17, 446.12it/s]"
     ]
    },
    {
     "name": "stderr",
     "output_type": "stream",
     "text": [
      "\r7717it [00:17, 446.11it/s]"
     ]
    },
    {
     "name": "stderr",
     "output_type": "stream",
     "text": [
      "\r7769it [00:17, 446.48it/s]"
     ]
    },
    {
     "name": "stderr",
     "output_type": "stream",
     "text": [
      "\r7815it [00:17, 446.49it/s]"
     ]
    },
    {
     "name": "stderr",
     "output_type": "stream",
     "text": [
      "\r7862it [00:17, 446.60it/s]"
     ]
    },
    {
     "name": "stderr",
     "output_type": "stream",
     "text": [
      "\r7912it [00:17, 446.87it/s]"
     ]
    },
    {
     "name": "stderr",
     "output_type": "stream",
     "text": [
      "\r7959it [00:17, 445.60it/s]"
     ]
    },
    {
     "name": "stderr",
     "output_type": "stream",
     "text": [
      "\r8008it [00:17, 445.85it/s]"
     ]
    },
    {
     "name": "stderr",
     "output_type": "stream",
     "text": [
      "\r8053it [00:18, 445.80it/s]"
     ]
    },
    {
     "name": "stderr",
     "output_type": "stream",
     "text": [
      "\r8097it [00:18, 445.38it/s]"
     ]
    },
    {
     "name": "stderr",
     "output_type": "stream",
     "text": [
      "\r8140it [00:18, 445.07it/s]"
     ]
    },
    {
     "name": "stderr",
     "output_type": "stream",
     "text": [
      "\r8191it [00:18, 445.37it/s]"
     ]
    },
    {
     "name": "stderr",
     "output_type": "stream",
     "text": [
      "\r8239it [00:18, 445.53it/s]"
     ]
    },
    {
     "name": "stderr",
     "output_type": "stream",
     "text": [
      "\r8284it [00:18, 445.52it/s]"
     ]
    },
    {
     "name": "stderr",
     "output_type": "stream",
     "text": [
      "\r8332it [00:18, 444.51it/s]"
     ]
    },
    {
     "name": "stderr",
     "output_type": "stream",
     "text": [
      "\r8389it [00:18, 445.07it/s]"
     ]
    },
    {
     "name": "stderr",
     "output_type": "stream",
     "text": [
      "\r8442it [00:18, 445.51it/s]"
     ]
    },
    {
     "name": "stderr",
     "output_type": "stream",
     "text": [
      "\r8490it [00:19, 445.08it/s]"
     ]
    },
    {
     "name": "stderr",
     "output_type": "stream",
     "text": [
      "\r8535it [00:19, 444.61it/s]"
     ]
    },
    {
     "name": "stderr",
     "output_type": "stream",
     "text": [
      "\r8584it [00:19, 444.64it/s]"
     ]
    },
    {
     "name": "stderr",
     "output_type": "stream",
     "text": [
      "\r8636it [00:19, 445.02it/s]"
     ]
    },
    {
     "name": "stderr",
     "output_type": "stream",
     "text": [
      "\r8689it [00:19, 444.78it/s]"
     ]
    },
    {
     "name": "stderr",
     "output_type": "stream",
     "text": [
      "\r8738it [00:19, 444.94it/s]"
     ]
    },
    {
     "name": "stderr",
     "output_type": "stream",
     "text": [
      "\r8784it [00:19, 444.35it/s]"
     ]
    },
    {
     "name": "stderr",
     "output_type": "stream",
     "text": [
      "\r8827it [00:19, 444.27it/s]"
     ]
    },
    {
     "name": "stderr",
     "output_type": "stream",
     "text": [
      "\r8870it [00:20, 442.84it/s]"
     ]
    },
    {
     "name": "stderr",
     "output_type": "stream",
     "text": [
      "\r8921it [00:20, 443.14it/s]"
     ]
    },
    {
     "name": "stderr",
     "output_type": "stream",
     "text": [
      "\r8973it [00:20, 443.50it/s]"
     ]
    },
    {
     "name": "stderr",
     "output_type": "stream",
     "text": [
      "\r9018it [00:20, 443.04it/s]"
     ]
    },
    {
     "name": "stderr",
     "output_type": "stream",
     "text": [
      "\r9066it [00:20, 443.22it/s]"
     ]
    },
    {
     "name": "stderr",
     "output_type": "stream",
     "text": [
      "\r9116it [00:20, 443.47it/s]"
     ]
    },
    {
     "name": "stderr",
     "output_type": "stream",
     "text": [
      "\r9162it [00:20, 443.02it/s]"
     ]
    },
    {
     "name": "stderr",
     "output_type": "stream",
     "text": [
      "\r9210it [00:20, 442.79it/s]"
     ]
    },
    {
     "name": "stderr",
     "output_type": "stream",
     "text": [
      "\r9268it [00:20, 443.39it/s]"
     ]
    },
    {
     "name": "stderr",
     "output_type": "stream",
     "text": [
      "\r9316it [00:21, 443.54it/s]"
     ]
    },
    {
     "name": "stderr",
     "output_type": "stream",
     "text": [
      "\r9373it [00:21, 444.12it/s]"
     ]
    },
    {
     "name": "stderr",
     "output_type": "stream",
     "text": [
      "\r9423it [00:21, 443.97it/s]"
     ]
    },
    {
     "name": "stderr",
     "output_type": "stream",
     "text": [
      "\r9471it [00:21, 443.96it/s]"
     ]
    },
    {
     "name": "stderr",
     "output_type": "stream",
     "text": [
      "\r9519it [00:21, 444.09it/s]"
     ]
    },
    {
     "name": "stderr",
     "output_type": "stream",
     "text": [
      "\r9569it [00:21, 444.31it/s]"
     ]
    },
    {
     "name": "stderr",
     "output_type": "stream",
     "text": [
      "\r9623it [00:21, 444.74it/s]"
     ]
    },
    {
     "name": "stderr",
     "output_type": "stream",
     "text": [
      "\r9681it [00:21, 445.33it/s]"
     ]
    },
    {
     "name": "stderr",
     "output_type": "stream",
     "text": [
      "\r9733it [00:21, 444.62it/s]"
     ]
    },
    {
     "name": "stderr",
     "output_type": "stream",
     "text": [
      "\r9780it [00:22, 444.50it/s]"
     ]
    },
    {
     "name": "stderr",
     "output_type": "stream",
     "text": [
      "\r9830it [00:22, 444.72it/s]"
     ]
    },
    {
     "name": "stderr",
     "output_type": "stream",
     "text": [
      "\r9884it [00:22, 445.13it/s]"
     ]
    },
    {
     "name": "stderr",
     "output_type": "stream",
     "text": [
      "\r9933it [00:22, 445.06it/s]"
     ]
    },
    {
     "name": "stderr",
     "output_type": "stream",
     "text": [
      "\r9980it [00:22, 445.14it/s]"
     ]
    },
    {
     "name": "stderr",
     "output_type": "stream",
     "text": [
      "\r10027it [00:22, 444.84it/s]"
     ]
    },
    {
     "name": "stderr",
     "output_type": "stream",
     "text": [
      "\r10076it [00:22, 445.03it/s]"
     ]
    },
    {
     "name": "stderr",
     "output_type": "stream",
     "text": [
      "\r10122it [00:22, 445.04it/s]"
     ]
    },
    {
     "name": "stderr",
     "output_type": "stream",
     "text": [
      "\r10168it [00:22, 445.10it/s]"
     ]
    },
    {
     "name": "stderr",
     "output_type": "stream",
     "text": [
      "\r10214it [00:22, 444.12it/s]"
     ]
    },
    {
     "name": "stderr",
     "output_type": "stream",
     "text": [
      "\r10262it [00:23, 444.24it/s]"
     ]
    },
    {
     "name": "stderr",
     "output_type": "stream",
     "text": [
      "\r10305it [00:23, 444.01it/s]"
     ]
    },
    {
     "name": "stderr",
     "output_type": "stream",
     "text": [
      "\r10347it [00:23, 443.62it/s]"
     ]
    },
    {
     "name": "stderr",
     "output_type": "stream",
     "text": [
      "\r10398it [00:23, 443.89it/s]"
     ]
    },
    {
     "name": "stderr",
     "output_type": "stream",
     "text": [
      "\r10442it [00:23, 443.74it/s]"
     ]
    },
    {
     "name": "stderr",
     "output_type": "stream",
     "text": [
      "\r10485it [00:23, 443.28it/s]"
     ]
    },
    {
     "name": "stderr",
     "output_type": "stream",
     "text": [
      "\r10533it [00:23, 443.41it/s]"
     ]
    },
    {
     "name": "stderr",
     "output_type": "stream",
     "text": [
      "\r10583it [00:23, 443.64it/s]"
     ]
    },
    {
     "name": "stderr",
     "output_type": "stream",
     "text": [
      "\r10628it [00:23, 443.66it/s]"
     ]
    },
    {
     "name": "stderr",
     "output_type": "stream",
     "text": [
      "\r10673it [00:24, 443.37it/s]"
     ]
    },
    {
     "name": "stderr",
     "output_type": "stream",
     "text": [
      "\r10719it [00:24, 443.13it/s]"
     ]
    },
    {
     "name": "stderr",
     "output_type": "stream",
     "text": [
      "\r10774it [00:24, 443.56it/s]"
     ]
    },
    {
     "name": "stderr",
     "output_type": "stream",
     "text": [
      "\r10820it [00:24, 442.93it/s]"
     ]
    },
    {
     "name": "stderr",
     "output_type": "stream",
     "text": [
      "\r10863it [00:24, 442.04it/s]"
     ]
    },
    {
     "name": "stderr",
     "output_type": "stream",
     "text": [
      "\r10903it [00:24, 441.87it/s]"
     ]
    },
    {
     "name": "stderr",
     "output_type": "stream",
     "text": [
      "\r10961it [00:24, 442.41it/s]"
     ]
    },
    {
     "name": "stderr",
     "output_type": "stream",
     "text": [
      "\r11012it [00:24, 442.62it/s]"
     ]
    },
    {
     "name": "stderr",
     "output_type": "stream",
     "text": [
      "\r11058it [00:24, 442.43it/s]"
     ]
    },
    {
     "name": "stderr",
     "output_type": "stream",
     "text": [
      "\r11118it [00:25, 443.01it/s]"
     ]
    },
    {
     "name": "stderr",
     "output_type": "stream",
     "text": [
      "\r11167it [00:25, 443.15it/s]"
     ]
    },
    {
     "name": "stderr",
     "output_type": "stream",
     "text": [
      "\r11216it [00:25, 442.30it/s]"
     ]
    },
    {
     "name": "stderr",
     "output_type": "stream",
     "text": [
      "\r11259it [00:25, 442.09it/s]"
     ]
    },
    {
     "name": "stderr",
     "output_type": "stream",
     "text": [
      "\r11301it [00:25, 441.71it/s]"
     ]
    },
    {
     "name": "stderr",
     "output_type": "stream",
     "text": [
      "\r11347it [00:25, 441.78it/s]"
     ]
    },
    {
     "name": "stderr",
     "output_type": "stream",
     "text": [
      "\r11389it [00:25, 441.59it/s]"
     ]
    },
    {
     "name": "stderr",
     "output_type": "stream",
     "text": [
      "\r11442it [00:25, 441.91it/s]"
     ]
    },
    {
     "name": "stderr",
     "output_type": "stream",
     "text": [
      "\r11487it [00:26, 441.51it/s]"
     ]
    },
    {
     "name": "stderr",
     "output_type": "stream",
     "text": [
      "\r11541it [00:26, 441.87it/s]"
     ]
    },
    {
     "name": "stderr",
     "output_type": "stream",
     "text": [
      "\r11588it [00:26, 441.95it/s]"
     ]
    },
    {
     "name": "stderr",
     "output_type": "stream",
     "text": [
      "\r11644it [00:26, 442.38it/s]"
     ]
    },
    {
     "name": "stderr",
     "output_type": "stream",
     "text": [
      "\r11693it [00:26, 442.03it/s]"
     ]
    },
    {
     "name": "stderr",
     "output_type": "stream",
     "text": [
      "\r11739it [00:26, 441.96it/s]"
     ]
    },
    {
     "name": "stderr",
     "output_type": "stream",
     "text": [
      "\r11789it [00:26, 442.12it/s]"
     ]
    },
    {
     "name": "stderr",
     "output_type": "stream",
     "text": [
      "\r11844it [00:26, 442.52it/s]"
     ]
    },
    {
     "name": "stderr",
     "output_type": "stream",
     "text": [
      "\r11894it [00:26, 442.69it/s]"
     ]
    },
    {
     "name": "stderr",
     "output_type": "stream",
     "text": [
      "\r11943it [00:26, 442.43it/s]"
     ]
    },
    {
     "name": "stderr",
     "output_type": "stream",
     "text": [
      "\r11989it [00:27, 442.42it/s]"
     ]
    },
    {
     "name": "stderr",
     "output_type": "stream",
     "text": [
      "\r12035it [00:27, 442.41it/s]"
     ]
    },
    {
     "name": "stderr",
     "output_type": "stream",
     "text": [
      "\r12080it [00:27, 442.34it/s]"
     ]
    },
    {
     "name": "stderr",
     "output_type": "stream",
     "text": [
      "\r12127it [00:27, 442.19it/s]"
     ]
    },
    {
     "name": "stderr",
     "output_type": "stream",
     "text": [
      "\r12178it [00:27, 442.43it/s]"
     ]
    },
    {
     "name": "stderr",
     "output_type": "stream",
     "text": [
      "\r12236it [00:27, 442.91it/s]"
     ]
    },
    {
     "name": "stderr",
     "output_type": "stream",
     "text": [
      "\r12285it [00:27, 443.07it/s]"
     ]
    },
    {
     "name": "stderr",
     "output_type": "stream",
     "text": [
      "\r12334it [00:27, 442.89it/s]"
     ]
    },
    {
     "name": "stderr",
     "output_type": "stream",
     "text": [
      "\r12381it [00:27, 442.92it/s]"
     ]
    },
    {
     "name": "stderr",
     "output_type": "stream",
     "text": [
      "\r12428it [00:28, 442.99it/s]"
     ]
    },
    {
     "name": "stderr",
     "output_type": "stream",
     "text": [
      "\r12475it [00:28, 442.54it/s]"
     ]
    },
    {
     "name": "stderr",
     "output_type": "stream",
     "text": [
      "\r12524it [00:28, 442.67it/s]"
     ]
    },
    {
     "name": "stderr",
     "output_type": "stream",
     "text": [
      "\r12578it [00:28, 443.00it/s]"
     ]
    },
    {
     "name": "stderr",
     "output_type": "stream",
     "text": [
      "\r12626it [00:28, 442.95it/s]"
     ]
    },
    {
     "name": "stderr",
     "output_type": "stream",
     "text": [
      "\r12672it [00:28, 442.48it/s]"
     ]
    },
    {
     "name": "stderr",
     "output_type": "stream",
     "text": [
      "\r12715it [00:28, 442.41it/s]"
     ]
    },
    {
     "name": "stderr",
     "output_type": "stream",
     "text": [
      "\r12759it [00:28, 442.40it/s]"
     ]
    },
    {
     "name": "stderr",
     "output_type": "stream",
     "text": [
      "\r12805it [00:28, 442.44it/s]"
     ]
    },
    {
     "name": "stderr",
     "output_type": "stream",
     "text": [
      "\r12849it [00:29, 442.39it/s]"
     ]
    },
    {
     "name": "stderr",
     "output_type": "stream",
     "text": [
      "\r12894it [00:29, 442.42it/s]"
     ]
    },
    {
     "name": "stderr",
     "output_type": "stream",
     "text": [
      "\r12938it [00:29, 442.14it/s]"
     ]
    },
    {
     "name": "stderr",
     "output_type": "stream",
     "text": [
      "\r12985it [00:29, 442.22it/s]"
     ]
    },
    {
     "name": "stderr",
     "output_type": "stream",
     "text": [
      "\r13029it [00:29, 441.82it/s]"
     ]
    },
    {
     "name": "stderr",
     "output_type": "stream",
     "text": [
      "\r13082it [00:29, 442.10it/s]"
     ]
    },
    {
     "name": "stderr",
     "output_type": "stream",
     "text": [
      "\r13135it [00:29, 442.38it/s]"
     ]
    },
    {
     "name": "stderr",
     "output_type": "stream",
     "text": [
      "\r13191it [00:29, 442.74it/s]"
     ]
    },
    {
     "name": "stderr",
     "output_type": "stream",
     "text": [
      "\r13245it [00:29, 443.06it/s]"
     ]
    },
    {
     "name": "stderr",
     "output_type": "stream",
     "text": [
      "\r13296it [00:30, 442.50it/s]"
     ]
    },
    {
     "name": "stderr",
     "output_type": "stream",
     "text": [
      "\r13346it [00:30, 442.68it/s]"
     ]
    },
    {
     "name": "stderr",
     "output_type": "stream",
     "text": [
      "\r13401it [00:30, 443.02it/s]"
     ]
    },
    {
     "name": "stderr",
     "output_type": "stream",
     "text": [
      "\r13451it [00:30, 442.99it/s]"
     ]
    },
    {
     "name": "stderr",
     "output_type": "stream",
     "text": [
      "\r13504it [00:30, 443.27it/s]"
     ]
    },
    {
     "name": "stderr",
     "output_type": "stream",
     "text": [
      "\r13553it [00:30, 443.34it/s]"
     ]
    },
    {
     "name": "stderr",
     "output_type": "stream",
     "text": [
      "\r13602it [00:30, 443.29it/s]"
     ]
    },
    {
     "name": "stderr",
     "output_type": "stream",
     "text": [
      "\r13649it [00:30, 443.34it/s]"
     ]
    },
    {
     "name": "stderr",
     "output_type": "stream",
     "text": [
      "\r13650it [00:30, 443.34it/s]"
     ]
    },
    {
     "name": "stderr",
     "output_type": "stream",
     "text": [
      "\n"
     ]
    },
    {
     "name": "stdout",
     "output_type": "stream",
     "text": [
      "Train # 0 has 250 samples\nVal # 0 has 100 samples\n------------split line---------------------------\nTrain # 1 has 255 samples\nVal # 1 has 95 samples\n------------split line---------------------------\nTrain # 2 has 235 samples\nVal # 2 has 115 samples\n------------split line---------------------------\nTrain # 3 has 240 samples\nVal # 3 has 110 samples\n------------split line---------------------------\nTrain # 4 has 236 samples\nVal # 4 has 114 samples\n------------split line---------------------------\nTrain # 5 has 246 samples\nVal # 5 has 104 samples\n------------split line---------------------------\nTrain # 6 has 249 samples\nVal # 6 has 101 samples\n------------split line---------------------------\nTrain # 7 has 247 samples\nVal # 7 has 103 samples\n------------split line---------------------------\nTrain # 8 has 249 samples\nVal # 8 has 101 samples\n------------split line---------------------------\nTrain # 9 has 246 samples\nVal # 9 has 104 samples\n------------split line---------------------------\nTrain # 10 has 239 samples\nVal # 10 has 111 samples\n------------split line---------------------------\nTrain # 11 has 240 samples\nVal # 11 has 110 samples\n------------split line---------------------------\nTrain # 12 has 241 samples\nVal # 12 has 109 samples\n------------split line---------------------------\nTrain # 13 has 261 samples\nVal # 13 has 89 samples\n------------split line---------------------------\nTrain # 14 has 252 samples\nVal # 14 has 98 samples\n------------split line---------------------------\nTrain # 15 has 238 samples\nVal # 15 has 112 samples\n------------split line---------------------------\nTrain # 16 has 240 samples\nVal # 16 has 110 samples\n------------split line---------------------------\nTrain # 17 has 251 samples\nVal # 17 has 99 samples\n------------split line---------------------------\nTrain # 18 has 245 samples\nVal # 18 has 105 samples\n------------split line---------------------------\nTrain # 19 has 240 samples\nVal # 19 has 110 samples\n------------split line---------------------------\nTrain # 20 has 243 samples\nVal # 20 has 107 samples\n------------split line---------------------------\nTrain # 21 has 247 samples\nVal # 21 has 103 samples\n------------split line---------------------------\nTrain # 22 has 249 samples\nVal # 22 has 101 samples\n------------split line---------------------------\nTrain # 23 has 247 samples\nVal # 23 has 103 samples\n------------split line---------------------------\nTrain # 24 has 230 samples\nVal # 24 has 120 samples\n------------split line---------------------------\nTrain # 25 has 241 samples\nVal # 25 has 109 samples\n------------split line---------------------------\nTrain # 26 has 244 samples\nVal # 26 has 106 samples\n------------split line---------------------------\nTrain # 27 has 254 samples\nVal # 27 has 96 samples\n------------split line---------------------------\nTrain # 28 has 237 samples\nVal # 28 has 113 samples\n------------split line---------------------------\nTrain # 29 has 246 samples\nVal # 29 has 104 samples\n------------split line---------------------------\nTrain # 30 has 239 samples\nVal # 30 has 111 samples\n------------split line---------------------------\nTrain # 31 has 257 samples\nVal # 31 has 93 samples\n------------split line---------------------------\nTrain # 32 has 263 samples\nVal # 32 has 87 samples\n------------split line---------------------------\nTrain # 33 has 248 samples\nVal # 33 has 102 samples\n------------split line---------------------------\nTrain # 34 has 230 samples\nVal # 34 has 120 samples\n------------split line---------------------------\nTrain # 35 has 244 samples\nVal # 35 has 106 samples\n------------split line---------------------------\nTrain # 36 has 253 samples\nVal # 36 has 97 samples\n------------split line---------------------------\nTrain # 37 has 252 samples\nVal # 37 has 98 samples\n------------split line---------------------------\nTrain # 38 has 238 samples\nVal # 38 has 112 samples\n------------split line---------------------------\n"
     ]
    }
   ],
   "source": [
    "data_dir = './input'\n",
    "train_path = 'train_aug'\n",
    "\n",
    "Xtr, ytr, Xv, yv, num_classes = get_train_val_data(data_dir, train_path)\n",
    "print(\"Categories:{}\".format(num_classes))\n",
    "print('Xtr.shape:{}, Xv.shape:{}'.format(Xtr.shape, Xv.shape))"
   ]
  }
 ],
 "metadata": {
  "language": "python"
 },
 "nbformat": 4,
 "nbformat_minor": 2
}
